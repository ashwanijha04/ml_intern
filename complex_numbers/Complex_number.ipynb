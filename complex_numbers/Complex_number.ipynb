{
 "cells": [
  {
   "cell_type": "markdown",
   "metadata": {},
   "source": [
    "### This is the code for the complex numbers program.\n",
    "##### Submitted by- Ashwani Jha"
   ]
  },
  {
   "cell_type": "code",
   "execution_count": 126,
   "metadata": {},
   "outputs": [],
   "source": [
    "import math"
   ]
  },
  {
   "cell_type": "code",
   "execution_count": 127,
   "metadata": {},
   "outputs": [],
   "source": [
    "class Complex:\n",
    "    x = 0.0\n",
    "    y = 0.0\n",
    "\n",
    "    # Creating the class constructor\n",
    "    def __init__(self, x, y):\n",
    "        self.x = x\n",
    "        self.y = y\n",
    "    \n",
    "    # Function to print complex number in x+yi format\n",
    "    def __str__(self):\n",
    "        return \"({0} + {1}i)\".format(self.x,self.y)\n",
    "\n",
    "    # Returns the real part of the number\n",
    "    def real(self):\n",
    "        return self.x\n",
    "\n",
    "    # Returns the imaginary part of the number\n",
    "    def imag(self):\n",
    "        return self.y\n",
    "\n",
    "    # Returns the argument\n",
    "    def argument(self):\n",
    "        # Handles run time error if the denominator is zero\n",
    "        try:\n",
    "            return math.atan(self.y/self.x)\n",
    "        except ZeroDivisionError:\n",
    "            return math.pi/2\n",
    "\n",
    "    # Returns the conjugate\n",
    "    def conjugate(self):\n",
    "        return \"({0} - {1}i)\".format(self.x,self.y)\n",
    "\n",
    "    # Overloading the + operator for objects\n",
    "    def __add__(self,other):\n",
    "        x = self.x + other.x\n",
    "        y = self.y + other.y\n",
    "        return Complex(x, y)\n",
    "\n",
    "    # Overloading the - operator for objects\n",
    "    def __sub__(self, other):\n",
    "        x = self.x - other.x\n",
    "        y = self.y - other.y\n",
    "        return Complex(x, y)\n",
    "\n",
    "    # Overloading the * operator for objects\n",
    "    def __mul__(self, other):\n",
    "\n",
    "        \"\"\"\n",
    "        (x1+iy1)*(x2+iy2) \n",
    "        = (x1x2 - y1y2) + i(x1y2 + y1x2)\n",
    "        \"\"\"\n",
    "        x = (self.x)*(other.x) - (self.y)*(other.y)\n",
    "        y = (self.x)*(other.y) + (self.y)*(other.x)\n",
    "        return Complex(x, y)\n",
    "\n",
    "    # Overloading the / operator\n",
    "    def __truediv__(self, other):\n",
    "\n",
    "        \"\"\"\n",
    "        (x1 + iy1)/(x2 + iy2)\n",
    "        = ((x1x2 + y1y2) - i(x1y2 - x2y1))/(x2^2 - y2^2)\n",
    "        \"\"\"\n",
    "        x = ((self.x)*(other.x) + (self.y)*(other.y))/(other.x**2 - other.y**2)\n",
    "        y = ((other.x)*(self.y) - (self.x)*(other.y))/(other.x**2 - other.y**2)\n",
    "        return Complex(x, y)\n",
    "    \n",
    "    # Finding the absolute value\n",
    "    def abs(self):\n",
    "        return math.sqrt(self.x**2 + self.y**2)\n",
    "\n"
   ]
  },
  {
   "cell_type": "code",
   "execution_count": 128,
   "metadata": {},
   "outputs": [],
   "source": [
    "c1 = Complex(5.7, 99)\n",
    "c2 = Complex(3, 4.2)"
   ]
  },
  {
   "cell_type": "code",
   "execution_count": 131,
   "metadata": {},
   "outputs": [
    {
     "name": "stdout",
     "output_type": "stream",
     "text": [
      "(5.7 + 99i)\n",
      "(3 + 4.2i)\n"
     ]
    }
   ],
   "source": [
    "# Printing in the specified format\n",
    "print(c1)\n",
    "print(c2)"
   ]
  },
  {
   "cell_type": "code",
   "execution_count": 132,
   "metadata": {},
   "outputs": [
    {
     "name": "stdout",
     "output_type": "stream",
     "text": [
      "(8.7 + 103.2i)\n"
     ]
    }
   ],
   "source": [
    "# Addition of two complex numbers\n",
    "print(c1+c2)"
   ]
  },
  {
   "cell_type": "code",
   "execution_count": 133,
   "metadata": {},
   "outputs": [
    {
     "name": "stdout",
     "output_type": "stream",
     "text": [
      "(2.7 + 94.8i)\n"
     ]
    }
   ],
   "source": [
    "# Subtraction of two complex numbers\n",
    "print(c1-c2)"
   ]
  },
  {
   "cell_type": "code",
   "execution_count": 134,
   "metadata": {},
   "outputs": [
    {
     "name": "stdout",
     "output_type": "stream",
     "text": [
      "(-398.7 + 320.94i)\n"
     ]
    }
   ],
   "source": [
    "# Multiplication of two complex numbers\n",
    "print(c1*c2)"
   ]
  },
  {
   "cell_type": "code",
   "execution_count": 135,
   "metadata": {},
   "outputs": [
    {
     "name": "stdout",
     "output_type": "stream",
     "text": [
      "(-50.104166666666664 + -31.604166666666664i)\n"
     ]
    }
   ],
   "source": [
    "# Division of two complex numbers\n",
    "print(c1/c2)"
   ]
  },
  {
   "cell_type": "code",
   "execution_count": 136,
   "metadata": {},
   "outputs": [
    {
     "name": "stdout",
     "output_type": "stream",
     "text": [
      "99.16395514500216\n",
      "5.1613951602255765\n"
     ]
    }
   ],
   "source": [
    "# Absolute value of a complex number\n",
    "print(c1.abs())\n",
    "print(c2.abs())"
   ]
  },
  {
   "cell_type": "code",
   "execution_count": 137,
   "metadata": {},
   "outputs": [
    {
     "name": "stdout",
     "output_type": "stream",
     "text": [
      "5.7\n",
      "3\n"
     ]
    }
   ],
   "source": [
    "# Real value of the complex numbers\n",
    "print(c1.real())\n",
    "print(c2.real())"
   ]
  },
  {
   "cell_type": "code",
   "execution_count": 138,
   "metadata": {},
   "outputs": [
    {
     "name": "stdout",
     "output_type": "stream",
     "text": [
      "99\n",
      "4.2\n"
     ]
    }
   ],
   "source": [
    "# Imaginary values of the complex numbers\n",
    "print(c1.imag())\n",
    "print(c2.imag())"
   ]
  },
  {
   "cell_type": "code",
   "execution_count": 139,
   "metadata": {},
   "outputs": [
    {
     "name": "stdout",
     "output_type": "stream",
     "text": [
      "1.5132840635731584\n",
      "0.9505468408120752\n"
     ]
    }
   ],
   "source": [
    "# Arguments of the complex numbers\n",
    "print(c1.argument())\n",
    "print(c2.argument())"
   ]
  },
  {
   "cell_type": "code",
   "execution_count": 140,
   "metadata": {},
   "outputs": [
    {
     "name": "stdout",
     "output_type": "stream",
     "text": [
      "(5.7 - 99i)\n",
      "(3 - 4.2i)\n"
     ]
    }
   ],
   "source": [
    "# Conjugate of the complex numbers\n",
    "print(c1.conjugate())\n",
    "print(c2.conjugate())"
   ]
  }
 ],
 "metadata": {
  "kernelspec": {
   "display_name": "Python 3",
   "language": "python",
   "name": "python3"
  },
  "language_info": {
   "codemirror_mode": {
    "name": "ipython",
    "version": 3
   },
   "file_extension": ".py",
   "mimetype": "text/x-python",
   "name": "python",
   "nbconvert_exporter": "python",
   "pygments_lexer": "ipython3",
   "version": "3.6.4"
  }
 },
 "nbformat": 4,
 "nbformat_minor": 2
}
